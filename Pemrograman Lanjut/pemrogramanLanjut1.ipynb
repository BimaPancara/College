{
  "nbformat": 4,
  "nbformat_minor": 0,
  "metadata": {
    "colab": {
      "provenance": [],
      "collapsed_sections": [
        "FEwOCO4E741Y",
        "Db056tTk8WKr",
        "qiZcwsWf861I"
      ],
      "toc_visible": true,
      "authorship_tag": "ABX9TyOoBJEA1wIO8z5ya17ytvf/",
      "include_colab_link": true
    },
    "kernelspec": {
      "name": "python3",
      "display_name": "Python 3"
    },
    "language_info": {
      "name": "python"
    }
  },
  "cells": [
    {
      "cell_type": "markdown",
      "metadata": {
        "id": "view-in-github",
        "colab_type": "text"
      },
      "source": [
        "<a href=\"https://colab.research.google.com/github/BimaPancara/College/blob/main/pemrogramanLanjut1.ipynb\" target=\"_parent\"><img src=\"https://colab.research.google.com/assets/colab-badge.svg\" alt=\"Open In Colab\"/></a>"
      ]
    },
    {
      "cell_type": "markdown",
      "source": [
        "# Python Basic"
      ],
      "metadata": {
        "id": "KYaLiPGB_fpU"
      }
    },
    {
      "cell_type": "markdown",
      "source": [
        "## Hello World"
      ],
      "metadata": {
        "id": "FEwOCO4E741Y"
      }
    },
    {
      "cell_type": "code",
      "execution_count": 1,
      "metadata": {
        "colab": {
          "base_uri": "https://localhost:8080/"
        },
        "id": "KeGHzuNN69c-",
        "outputId": "79785385-4600-46ec-e449-b03abfa90f0f"
      },
      "outputs": [
        {
          "output_type": "stream",
          "name": "stdout",
          "text": [
            "Hello, World!\n"
          ]
        }
      ],
      "source": [
        "print(\"Hello, World!\")"
      ]
    },
    {
      "cell_type": "markdown",
      "source": [
        "## Looping"
      ],
      "metadata": {
        "id": "Db056tTk8WKr"
      }
    },
    {
      "cell_type": "markdown",
      "source": [
        "Looping kelipatan 2 hingga 20 kecuali habis dibagi 4"
      ],
      "metadata": {
        "id": "P1FZe9GD9cN6"
      }
    },
    {
      "cell_type": "code",
      "source": [
        "bil = 0\n",
        "n = 20\n",
        "i = 2\n",
        "while i<=n:\n",
        "    if not bil+i % 4 == 0:\n",
        "        print(\"bilangan \",bil+i)\n",
        "    i+=2"
      ],
      "metadata": {
        "colab": {
          "base_uri": "https://localhost:8080/"
        },
        "id": "uXE33qPY7gQS",
        "outputId": "6305ec6d-10a6-41b3-8dbb-1ecbb0bbbae3"
      },
      "execution_count": 3,
      "outputs": [
        {
          "output_type": "stream",
          "name": "stdout",
          "text": [
            "bilangan  2\n",
            "bilangan  6\n",
            "bilangan  10\n",
            "bilangan  14\n",
            "bilangan  18\n"
          ]
        }
      ]
    },
    {
      "cell_type": "markdown",
      "source": [
        "## If Else"
      ],
      "metadata": {
        "id": "qiZcwsWf861I"
      }
    },
    {
      "cell_type": "markdown",
      "source": [
        "Pembayaran Diskon Lebih dari 1,5 Juta"
      ],
      "metadata": {
        "id": "i2dbAWkU9w56"
      }
    },
    {
      "cell_type": "code",
      "source": [
        "harga = eval(input(\"Total Harga Pembelian : \"))\n",
        "diskon = 0.1\n",
        "dis = harga * diskon\n",
        "bayar = harga - dis\n",
        "if harga > 1500000:\n",
        "    print (\"Uang yang harus dibayarkan adalah Rp. {:0,.2f}\".format(bayar))\n",
        "else:\n",
        "    print (\"Uang yang harus dibayarkan adalah Rp. {:0,.2f}\".format(harga))"
      ],
      "metadata": {
        "colab": {
          "base_uri": "https://localhost:8080/"
        },
        "id": "yLe6IbDA8-SV",
        "outputId": "e839c0c8-097f-48b9-f662-3e4fcc45d1c9"
      },
      "execution_count": 6,
      "outputs": [
        {
          "output_type": "stream",
          "name": "stdout",
          "text": [
            "Total Harga Pembelian : 2000000\n",
            "Uang yang harus dibayarkan adalah Rp. 1,800,000.00\n"
          ]
        }
      ]
    },
    {
      "cell_type": "markdown",
      "source": [
        "# Machine Learning"
      ],
      "metadata": {
        "id": "Wo49Di08-t2V"
      }
    },
    {
      "cell_type": "markdown",
      "source": [
        "## Definisi"
      ],
      "metadata": {
        "id": "qjr5WYqDASB_"
      }
    },
    {
      "cell_type": "markdown",
      "source": [
        "Machine Learning, adalah pembelajaran mesin dengan tujuan membantu memudahkan manusia\n",
        "\n",
        "Program komputer dinyatakan belajar dari pengalaman (_experience_) \"**E**\" terhadap suatu jenis tugas (_task_) \"**T**\" dengan ukuran performa (_performance measure_) \"**P**\"\n",
        "\n"
      ],
      "metadata": {
        "id": "rhiJuS73-ynK"
      }
    },
    {
      "cell_type": "markdown",
      "source": [
        "## Contoh Definisi"
      ],
      "metadata": {
        "id": "pe-J6by2Ap20"
      }
    },
    {
      "cell_type": "markdown",
      "source": [
        "Pemain Catur\n",
        "1. T : bermain catur\n",
        "2. P : persentase permainan yang dimenangkan\n",
        "3. E : Pengalaman sebelumnya dalam bermain catur\n"
      ],
      "metadata": {
        "id": "3g1M-khEAvai"
      }
    },
    {
      "cell_type": "markdown",
      "source": [
        "##"
      ],
      "metadata": {
        "id": "X3l3DAjfBQ_4"
      }
    }
  ]
}
